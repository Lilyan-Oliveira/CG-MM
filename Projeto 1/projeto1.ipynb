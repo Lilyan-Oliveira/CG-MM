{
 "cells": [
  {
   "cell_type": "markdown",
   "metadata": {},
   "source": [
    "Trabalho prático de Computação Gráfica 2025.1|C209-L1\n",
    "Lilyan Oliveira - 301|GES"
   ]
  },
  {
   "cell_type": "markdown",
   "metadata": {},
   "source": [
    "Descrição do projeto:\n",
    "•\tAnalisem cuidadosamente as características visuais das imagens fornecidas. Os aluno devem utilizar as técnicas aprendidas em sala para operar as imagem fornecidas NESTA ESPECÍFICA ORDEM:\n",
    "1.\tJuntar todas as imagens em uma única\n",
    "2.\tTrocar as cores (mudar a cor dos pinguins para qualquer outra)\n",
    "3.\tAplicar o espelhamento\n",
    "4.\tRecortar seu pinguim favorito (descarte os outros, deixando apenas um na imagem).\n",
    "5.\tFaça a analise do histograma em seu pinguim favorito e escolha um valor de threshold.  (Justifique a escolha do threshold)\n",
    "6.\tAplique uma conversão para que todos os pixeis abaixo dele sejam pintados de sua cor favorita (por exemplo: Azul)\n",
    "•\tOs itens devem ser resolvidos usando o resultado do anterior, por exemplo: a imagem resultado do item deve ser usada como base para o item 2.\n",
    "•\tElaborem um plano detalhado descrevendo as etapas e técnicas que serão utilizadas para transformar a imagem inicial na imagem final. Considerem os conceitos e técnicas discutidos em sala de aula.\n"
   ]
  },
  {
   "cell_type": "markdown",
   "metadata": {},
   "source": [
    "1.\tJuntar todas as imagens em uma única"
   ]
  },
  {
   "cell_type": "code",
   "execution_count": 4,
   "metadata": {},
   "outputs": [
    {
     "data": {
      "text/plain": [
       "True"
      ]
     },
     "execution_count": 4,
     "metadata": {},
     "output_type": "execute_result"
    }
   ],
   "source": [
    "import cv2\n",
    "import numpy as np\n",
    "\n",
    "# Carregar as imagens\n",
    "p1 = cv2.imread(\"P1.png\")\n",
    "p2 = cv2.imread(\"P2.png\")\n",
    "p3 = cv2.imread(\"P3.jpg\")\n",
    "p4 = cv2.imread(\"P4.png\")\n",
    "\n",
    "# Verificar se todas têm o mesmo tamanho (se não, redimensiona)\n",
    "altura, largura = p1.shape[:2]\n",
    "p2 = cv2.resize(p2, (largura, altura))\n",
    "p3 = cv2.resize(p3, (largura, altura))\n",
    "p4 = cv2.resize(p4, (largura, altura))\n",
    "\n",
    "# Juntar as imagens em 2x2 (grid)\n",
    "linha1 = np.hstack((p1, p2))\n",
    "linha2 = np.hstack((p3, p4))\n",
    "imagem_unida = np.vstack((linha1, linha2))\n",
    "\n",
    "# Mostrar resultado (opcional)\n",
    "cv2.imshow(\"Imagem Combinada\", imagem_unida)\n",
    "cv2.waitKey(0)\n",
    "cv2.destroyAllWindows()\n",
    "\n",
    "# Salvar resultado\n",
    "cv2.imwrite(\"resultado_1_combinada.png\", imagem_unida)\n"
   ]
  },
  {
   "cell_type": "markdown",
   "metadata": {},
   "source": [
    "2.\tTrocar as cores (mudar a cor dos pinguins para qualquer outra)"
   ]
  },
  {
   "cell_type": "code",
   "execution_count": 2,
   "metadata": {},
   "outputs": [
    {
     "data": {
      "text/plain": [
       "True"
      ]
     },
     "execution_count": 2,
     "metadata": {},
     "output_type": "execute_result"
    }
   ],
   "source": [
    "import cv2\n",
    "import numpy as np\n",
    "\n",
    "# Carrega imagem combinada\n",
    "img = cv2.imread(\"resultado_1_combinada.png\")\n",
    "hsv = cv2.cvtColor(img, cv2.COLOR_BGR2HSV)\n",
    "\n",
    "# Copia da imagem para aplicar alterações\n",
    "output = img.copy()\n",
    "\n",
    "# === NOVAS FAIXAS REFINADAS ===\n",
    "\n",
    "# Azul escuro (P1) — pegue só os tons saturados, evitando sombra azulada\n",
    "mascara_azul = cv2.inRange(hsv, (105, 100, 50), (125, 255, 255))\n",
    "output[mascara_azul > 0] = [128, 0, 128]  # roxo\n",
    "\n",
    "# Cinza (P2) — tons neutros com baixa saturação, evitando sombra\n",
    "mascara_cinza = cv2.inRange(hsv, (0, 0, 130), (180, 40, 230))\n",
    "output[mascara_cinza > 0] = [180, 105, 255]  # rosa\n",
    "\n",
    "# Azul claro (P3) — só azul mais vibrante\n",
    "mascara_azul_claro = cv2.inRange(hsv, (90, 50, 200), (105, 255, 255))\n",
    "output[mascara_azul_claro > 0] = [255, 0, 255]  # magenta claro\n",
    "\n",
    "# Verde (P4)\n",
    "mascara_verde = cv2.inRange(hsv, (50, 100, 100), (80, 255, 255))\n",
    "output[mascara_verde > 0] = [255, 255, 0]  # ciano\n",
    "\n",
    "# Amarelo (pés e bico) — evita sombras escuras\n",
    "mascara_amarelo = cv2.inRange(hsv, (25, 150, 150), (35, 255, 255))\n",
    "output[mascara_amarelo > 0] = [255, 0, 0]  # azul\n",
    "\n",
    "# Branco (barriga) — somente branco puro, ignora sombras cinza\n",
    "mascara_branco = cv2.inRange(hsv, (0, 0, 230), (180, 20, 255))\n",
    "# Aqui deixamos como está ou podemos dar um tom azulado/pérola se quiser\n",
    "\n",
    "# Exibir resultado final\n",
    "cv2.imshow(\"Pinguins Refinados\", output)\n",
    "cv2.waitKey(0)\n",
    "cv2.destroyAllWindows()\n",
    "\n",
    "# Salvar imagem\n",
    "cv2.imwrite(\"resultado_2_cores_refinadas.png\", output)\n"
   ]
  },
  {
   "cell_type": "markdown",
   "metadata": {},
   "source": [
    "3.\tAplicar o espelhamento"
   ]
  },
  {
   "cell_type": "code",
   "execution_count": 3,
   "metadata": {},
   "outputs": [
    {
     "data": {
      "text/plain": [
       "True"
      ]
     },
     "execution_count": 3,
     "metadata": {},
     "output_type": "execute_result"
    }
   ],
   "source": [
    "import cv2\n",
    "\n",
    "# Carregar a imagem com as cores trocadas\n",
    "img = cv2.imread(\"resultado_2_cores_refinadas.png\")\n",
    "\n",
    "# Espelhamento horizontal\n",
    "espelhada = cv2.flip(img, 1)  # 1 = horizontal, 0 = vertical, -1 = ambos\n",
    "\n",
    "# Mostrar imagem espelhada\n",
    "cv2.imshow(\"Imagem Espelhada\", espelhada)\n",
    "cv2.waitKey(0)\n",
    "cv2.destroyAllWindows()\n",
    "\n",
    "# Salvar resultado\n",
    "cv2.imwrite(\"resultado_3_espelhada.png\", espelhada)\n"
   ]
  },
  {
   "cell_type": "markdown",
   "metadata": {},
   "source": [
    "4.\tRecortar seu pinguim favorito (descarte os outros, deixando apenas um na imagem)."
   ]
  },
  {
   "cell_type": "code",
   "execution_count": 4,
   "metadata": {},
   "outputs": [
    {
     "data": {
      "text/plain": [
       "True"
      ]
     },
     "execution_count": 4,
     "metadata": {},
     "output_type": "execute_result"
    }
   ],
   "source": [
    "import cv2\n",
    "\n",
    "# Carregar imagem espelhada\n",
    "img = cv2.imread(\"resultado_3_espelhada.png\")\n",
    "\n",
    "# Obter altura e largura da imagem\n",
    "altura, largura = img.shape[:2]\n",
    "\n",
    "# Metade da altura e largura\n",
    "metade_altura = altura // 2\n",
    "metade_largura = largura // 2\n",
    "\n",
    "# Recortar quadrante superior direito (linha 0:metade_altura, colunas metade_largura:largura)\n",
    "recorte_roxo = img[0:metade_altura, metade_largura:largura]\n",
    "\n",
    "# Mostrar e salvar\n",
    "cv2.imshow(\"Pinguim Roxo Simpático\", recorte_roxo)\n",
    "cv2.waitKey(0)\n",
    "cv2.destroyAllWindows()\n",
    "\n",
    "cv2.imwrite(\"resultado_4_pinguim_roxo.png\", recorte_roxo)\n"
   ]
  },
  {
   "cell_type": "markdown",
   "metadata": {},
   "source": [
    "5.\tFaça a analise do histograma em seu pinguim favorito e escolha um valor de threshold.  (Justifique a escolha do threshold)"
   ]
  },
  {
   "cell_type": "code",
   "execution_count": 5,
   "metadata": {},
   "outputs": [
    {
     "data": {
      "image/png": "[encoded data removed]",
      "text/plain": [
       "<Figure size 1000x400 with 1 Axes>"
      ]
     },
     "metadata": {},
     "output_type": "display_data"
    }
   ],
   "source": [
    "import cv2\n",
    "import numpy as np\n",
    "import matplotlib.pyplot as plt\n",
    "\n",
    "# Carregar imagem recortada\n",
    "img = cv2.imread(\"resultado_4_pinguim_roxo.png\")\n",
    "\n",
    "# Converter para escala de cinza\n",
    "gray = cv2.cvtColor(img, cv2.COLOR_BGR2GRAY)\n",
    "\n",
    "# Calcular histograma\n",
    "hist = cv2.calcHist([gray], [0], None, [256], [0, 256])\n",
    "\n",
    "# Plotar histograma\n",
    "plt.figure(figsize=(10, 4))\n",
    "plt.title(\"Histograma de Intensidade - Pinguim Roxo\")\n",
    "plt.xlabel(\"Intensidade\")\n",
    "plt.ylabel(\"Número de Pixels\")\n",
    "plt.plot(hist, color='black')\n",
    "plt.xlim([0, 256])\n",
    "plt.grid()\n",
    "plt.show()\n"
   ]
  },
  {
   "cell_type": "markdown",
   "metadata": {},
   "source": [
    "Escolhi o valor do limite 120 para estar entre dois picos diferentes no histograma (50–100 e 150–200). Isso permite segmentar a imagem separando bem as regiões mais escuras (como contornos e corpo) das mais claras (como a barriga), garantindo uma boa distinção visual."
   ]
  },
  {
   "cell_type": "markdown",
   "metadata": {},
   "source": [
    "6.\tAplique uma conversão para que todos os pixeis abaixo dele sejam pintados de sua cor favorita (por exemplo: Azul)"
   ]
  },
  {
   "cell_type": "code",
   "execution_count": 6,
   "metadata": {},
   "outputs": [
    {
     "data": {
      "text/plain": [
       "True"
      ]
     },
     "execution_count": 6,
     "metadata": {},
     "output_type": "execute_result"
    }
   ],
   "source": [
    "import cv2\n",
    "import numpy as np\n",
    "\n",
    "# Carregar imagem do pinguim recortado\n",
    "img = cv2.imread(\"resultado_4_pinguim_roxo.png\")\n",
    "\n",
    "# Converter pra tons de cinza\n",
    "gray = cv2.cvtColor(img, cv2.COLOR_BGR2GRAY)\n",
    "\n",
    "# Threshold\n",
    "limiar = 120\n",
    "_, mask = cv2.threshold(gray, limiar, 255, cv2.THRESH_BINARY_INV)\n",
    "\n",
    "# Criar imagem da cor lavanda\n",
    "lavanda = np.full(img.shape, (216, 191, 216), dtype=np.uint8)\n",
    "\n",
    "# Aplicar a cor lavanda apenas nas áreas abaixo do threshold\n",
    "resultado_final = img.copy()\n",
    "resultado_final[mask > 0] = lavanda[mask > 0]\n",
    "\n",
    "# Mostrar e salvar resultado\n",
    "cv2.imshow(\"Pinguim Roxo Estilizado\", resultado_final)\n",
    "cv2.waitKey(0)\n",
    "cv2.destroyAllWindows()\n",
    "\n",
    "cv2.imwrite(\"resultado_5_threshold_lavanda.png\", resultado_final)\n"
   ]
  },
  {
   "cell_type": "markdown",
   "metadata": {},
   "source": [
    "Etapas e técnicas utilizadas\n",
    "\n",
    "1. Juntar as imagens\n",
    "Quatro imagens (P1, P2, P3 e P4), cada uma representando um pinguim com características visuais distintas. As imagens foram redimensionadas para uma resolução comum juntadas em uma única imagem, formando uma série 2x2 (mosaico).\n",
    "\n",
    "2. Troca de cores\n",
    "Cada pinguim teve suas cores originais remanescentes por cores alternativas com objetivo de destacar visualmente os elementos. Essa operação foi feita por meio de uma máscara baseada em intervalo de cor (filtro HSV), ajustando apenas as regiões específicas dos pinguins.\n",
    "\n",
    "3. Espelhamento\n",
    "A imagem composta foi espelhada horizontalmente (flip left-to-right).\n",
    "\n",
    "4. Recorte do pinguim favorito\n",
    "Após o espelhamento, foi selecionado o pinguim do quadrante superior direito (que passou a ser o pinguim roxo). Os demais quadrantes foram descartados, mantendo-se apenas a região correspondente ao pinguim escolhido.\n",
    "\n",
    "5. Análise de histograma e escolha do limite\n",
    "A imagem do pinguim foi convertida para escala de cinza e seu histograma foi detalhado. Foram identificados dois picos: um entre 50 e 100 (tons escuros) e outro entre 150 e 200 (tons claros).\n",
    "Limiar escolhido: 120\n",
    "Justificativa: O valor 120 está entre os dois picos, sendo ideal para separar visualmente áreas claras e escuras do pinguim.\n",
    "\n",
    "6. Aplicação de cor personalizada\n",
    "Todos os pixels com valor de intensidade ≤ 120 foram coloridos com o tom lavanda claro (RGB: 216, 191, 216).\n"
   ]
  }
 ],
 "metadata": {
  "kernelspec": {
   "display_name": "Python 3",
   "language": "python",
   "name": "python3"
  },
  "language_info": {
   "codemirror_mode": {
    "name": "ipython",
    "version": 3
   },
   "file_extension": ".py",
   "mimetype": "text/x-python",
   "name": "python",
   "nbconvert_exporter": "python",
   "pygments_lexer": "ipython3",
   "version": "3.11.9"
  }
 },
 "nbformat": 4,
 "nbformat_minor": 2
}
