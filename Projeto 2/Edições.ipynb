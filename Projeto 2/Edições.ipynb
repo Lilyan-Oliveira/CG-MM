{
 "cells": [
  {
   "cell_type": "markdown",
   "id": "5e85f5aa",
   "metadata": {},
   "source": [
    "Segundo projeto de C209 - L4 (Computação gráfica e multimídia), por Lilyan Oliveira | 301 GES\n",
    "\n",
    "Objetivos: Demonstrar capacitação em aplicar os conceitos aprendidos em aula sobre computação gráfica na transformação de uma imagem inicial em uma\n",
    "imagem final, utilizando diversas técnicas e ferramentas disponíveis."
   ]
  },
  {
   "cell_type": "markdown",
   "id": "e6febd44",
   "metadata": {},
   "source": [
    "1 -> Abrindo vídeo da leitura dramática sugerida."
   ]
  },
  {
   "cell_type": "code",
   "execution_count": null,
   "id": "6a6aef68",
   "metadata": {
    "vscode": {
     "languageId": "plaintext"
    }
   },
   "outputs": [],
   "source": [
    "from IPython.display import Video as IPyVideo\n",
    "import moviepy.editor as mpe\n",
    "import numpy as np\n",
    "\n",
    "\n",
    "clip = mpe.VideoFileClip(\"VideoOriginal.mp4\")\n",
    "clip.ipython_display(maxduration=210, width=480)"
   ]
  },
  {
   "cell_type": "markdown",
   "id": "10370808",
   "metadata": {},
   "source": [
    "2 -> Invertendo a imagem no eixo a cada 20 segundos."
   ]
  },
  {
   "cell_type": "code",
   "execution_count": null,
   "id": "95a83f26",
   "metadata": {
    "vscode": {
     "languageId": "plaintext"
    }
   },
   "outputs": [],
   "source": [
    "def invert_frame(get_frame, t):\n",
    "    frame = get_frame(t)\n",
    "\n",
    "    if (t // 20) % 2 == 1:\n",
    "        return np.fliplr(frame)\n",
    "\n",
    "    return frame\n",
    "\n",
    "inverted_clip = clip.fl(invert_frame)\n",
    "\n",
    "inverted_clip.ipython_display(maxduration=210, width=480)"
   ]
  },
  {
   "cell_type": "markdown",
   "id": "cbfb2297",
   "metadata": {},
   "source": [
    "3 -> Diminiuindo o som de forma gradativa, a cada 30 segundos, de forma que os últimos 10 segundos fiquem em silêncio (sem som)."
   ]
  },
  {
   "cell_type": "code",
   "execution_count": null,
   "id": "f6134176",
   "metadata": {
    "vscode": {
     "languageId": "plaintext"
    }
   },
   "outputs": [],
   "source": [
    "duration = clip.duration\n",
    "\n",
    "def fade_audio(audio, t):\n",
    "    frame = audio(t)\n",
    "\n",
    "    volume = np.where(\n",
    "        t < duration - 10,\n",
    "        1 - (t / (duration - 10)),\n",
    "        0\n",
    "    )\n",
    "\n",
    "    frame[:, 0] *= volume\n",
    "    frame[:, 1] *= volume\n",
    "\n",
    "    return frame\n",
    "\n",
    "audio_fadeout = inverted_clip.audio.fl(fade_audio)\n",
    "video_audio_edited = inverted_clip.set_audio(audio_fadeout)\n",
    "\n",
    "video_audio_edited.ipython_display(maxduration=210, width=480)"
   ]
  },
  {
   "cell_type": "markdown",
   "id": "cce341f1",
   "metadata": {},
   "source": [
    "4 -> Após o primeiro minuto (60 segundos), há um corte para o segundo 80. Por fim, foi inserido os 20 segundos cortados acima no fim do video."
   ]
  },
  {
   "cell_type": "code",
   "execution_count": null,
   "id": "2dd924f4",
   "metadata": {
    "vscode": {
     "languageId": "plaintext"
    }
   },
   "outputs": [],
   "source": [
    "first_part = video_audio_edited.subclip(0, 60)\n",
    "second_part = video_audio_edited.subclip(80, video_audio_edited.duration)\n",
    "cut_part = video_audio_edited.subclip(60, 80)\n",
    "\n",
    "final_video = mpe.concatenate_videoclips([first_part, second_part, cut_part])\n",
    "\n",
    "final_video.ipython_display(maxduration=210, width=480)"
   ]
  },
  {
   "cell_type": "markdown",
   "id": "8f64cf0a",
   "metadata": {},
   "source": [
    "5 -> Salvando a versão final do vídeo."
   ]
  },
  {
   "cell_type": "code",
   "execution_count": null,
   "id": "4687e094",
   "metadata": {
    "vscode": {
     "languageId": "plaintext"
    }
   },
   "outputs": [],
   "source": [
    "final_video.write_videofile(\"VideoFinal.mp4\")"
   ]
  }
 ],
 "metadata": {
  "language_info": {
   "name": "python"
  }
 },
 "nbformat": 4,
 "nbformat_minor": 5
}
