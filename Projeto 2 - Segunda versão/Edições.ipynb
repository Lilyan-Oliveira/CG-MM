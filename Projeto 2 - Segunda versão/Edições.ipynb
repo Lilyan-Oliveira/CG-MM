{
  "cells": [
    {
      "cell_type": "markdown",
      "id": "5e85f5aa",
      "metadata": {
        "id": "5e85f5aa"
      },
      "source": [
        "Segundo projeto de C209 - L4 (Computação gráfica e multimídia), por Lilyan Oliveira | 301 GES\n",
        "\n",
        "Objetivos: Demonstrar capacitação em aplicar os conceitos aprendidos em aula sobre computação gráfica na transformação de uma imagem inicial em uma\n",
        "imagem final, utilizando diversas técnicas e ferramentas disponíveis."
      ]
    },
    {
      "cell_type": "markdown",
      "id": "e6febd44",
      "metadata": {
        "id": "e6febd44"
      },
      "source": [
        "1 -> Abrindo vídeo da leitura dramática sugerida."
      ]
    },
    {
      "cell_type": "code",
      "execution_count": 1,
      "id": "6a6aef68",
      "metadata": {
        "vscode": {
          "languageId": "plaintext"
        },
        "colab": {
          "base_uri": "https://localhost:8080/"
        },
        "id": "6a6aef68",
        "outputId": "8047dac8-561d-4eca-bf3c-45469e1fe43e"
      },
      "outputs": [
        {
          "output_type": "stream",
          "name": "stderr",
          "text": [
            "WARNING:py.warnings:/usr/local/lib/python3.11/dist-packages/moviepy/video/io/sliders.py:61: SyntaxWarning: \"is\" with a literal. Did you mean \"==\"?\n",
            "  if event.key is 'enter':\n",
            "\n"
          ]
        }
      ],
      "source": [
        "from IPython.display import Video as IPyVideo\n",
        "import moviepy.editor as mp\n",
        "import numpy as np\n",
        "\n",
        "#Carregando o vídeo original\n",
        "video_base = mp.VideoFileClip(\"VideoOriginal.mp4\")\n",
        "video_base.ipython_display(maxduration=210, width=480)"
      ]
    },
    {
      "cell_type": "markdown",
      "id": "10370808",
      "metadata": {
        "id": "10370808"
      },
      "source": [
        "2 -> Invertendo a imagem no eixo a cada 20 segundos."
      ]
    },
    {
      "cell_type": "code",
      "execution_count": 2,
      "id": "95a83f26",
      "metadata": {
        "vscode": {
          "languageId": "plaintext"
        },
        "id": "95a83f26"
      },
      "outputs": [],
      "source": [
        "#Invertendo imagem a cada 20 segindos\n",
        "def efeito_inversao(t):\n",
        "    return int(t // 20) % 2 == 1\n",
        "\n",
        "\n",
        "def aplicar_inversao(get_frame, t):\n",
        "    frame = get_frame(t)\n",
        "    return np.fliplr(frame) if efeito_inversao(t) else frame\n",
        "\n",
        "video_alterado = video_base.fl(aplicar_inversao)\n",
        "video_alterado.ipython_display(maxduration=210, width=480)"
      ]
    },
    {
      "cell_type": "markdown",
      "id": "cbfb2297",
      "metadata": {
        "id": "cbfb2297"
      },
      "source": [
        "3 -> Diminiuindo o som de forma gradativa, a cada 30 segundos, de forma que os últimos 10 segundos fiquem em silêncio (sem som)."
      ]
    },
    {
      "cell_type": "code",
      "execution_count": 5,
      "id": "f6134176",
      "metadata": {
        "vscode": {
          "languageId": "plaintext"
        },
        "id": "f6134176"
      },
      "outputs": [],
      "source": [
        "#Diminuindo o som gradativamente\n",
        "duracao_total = video_alterado.duration\n",
        "\n",
        "def reduzir_audio(audio_func, t):\n",
        "    frame = audio_func(t)\n",
        "\n",
        "    volume = np.where(\n",
        "        t < duracao_total - 10,\n",
        "        1 - (t / (duracao_total - 10)),\n",
        "        0\n",
        "    )\n",
        "\n",
        "    frame[:, 0] *= volume\n",
        "    frame[:, 1] *= volume\n",
        "\n",
        "    return frame\n",
        "\n",
        "audio_fadeout = video_alterado.audio.fl(reduzir_audio)\n",
        "video_com_audio = video_alterado.set_audio(audio_fadeout)\n",
        "video_com_audio.ipython_display(maxduration=210, width=480)"
      ]
    },
    {
      "cell_type": "markdown",
      "id": "cce341f1",
      "metadata": {
        "id": "cce341f1"
      },
      "source": [
        "4 -> Após o primeiro minuto (60 segundos), há um corte para o segundo 80. Por fim, foi inserido os 20 segundos cortados acima no fim do video."
      ]
    },
    {
      "cell_type": "code",
      "execution_count": 6,
      "id": "2dd924f4",
      "metadata": {
        "vscode": {
          "languageId": "plaintext"
        },
        "id": "2dd924f4"
      },
      "outputs": [],
      "source": [
        "#Ajustando os trechos\n",
        "def recortar_video(clip, inicio, fim):\n",
        "    return clip.subclip(inicio, fim)\n",
        "\n",
        "parte1 = recortar_video(video_com_audio, 0, 60)\n",
        "parte2 = recortar_video(video_com_audio, 80, video_com_audio.duration)\n",
        "parte_movida = recortar_video(video_com_audio, 60, 80)\n",
        "\n",
        "video_final = mp.concatenate_videoclips([parte1, parte2, parte_movida])\n",
        "video_final.ipython_display(maxduration=210, width=480)"
      ]
    },
    {
      "cell_type": "markdown",
      "id": "8f64cf0a",
      "metadata": {
        "id": "8f64cf0a"
      },
      "source": [
        "5 -> Salvando a versão final do vídeo."
      ]
    },
    {
      "cell_type": "code",
      "execution_count": null,
      "id": "4687e094",
      "metadata": {
        "vscode": {
          "languageId": "plaintext"
        },
        "colab": {
          "base_uri": "https://localhost:8080/"
        },
        "id": "4687e094",
        "outputId": "dd716d72-18fc-40bb-e780-686481afb2fa"
      },
      "outputs": [
        {
          "output_type": "stream",
          "name": "stdout",
          "text": [
            "Moviepy - Building video VideoFinal.mp4.\n",
            "MoviePy - Writing audio in VideoFinalTEMP_MPY_wvf_snd.mp3\n"
          ]
        },
        {
          "output_type": "stream",
          "name": "stderr",
          "text": []
        },
        {
          "output_type": "stream",
          "name": "stdout",
          "text": [
            "MoviePy - Done.\n",
            "Moviepy - Writing video VideoFinal.mp4\n",
            "\n"
          ]
        },
        {
          "output_type": "stream",
          "name": "stderr",
          "text": []
        },
        {
          "output_type": "stream",
          "name": "stdout",
          "text": [
            "Moviepy - Done !\n",
            "Moviepy - video ready VideoFinal.mp4\n"
          ]
        }
      ],
      "source": [
        "#Salvando versão final\n",
        "video_final.write_videofile(\"VideoFinal.mp4\")\n"
      ]
    }
  ],
  "metadata": {
    "language_info": {
      "name": "python"
    },
    "colab": {
      "provenance": []
    },
    "kernelspec": {
      "name": "python3",
      "display_name": "Python 3"
    }
  },
  "nbformat": 4,
  "nbformat_minor": 5
}